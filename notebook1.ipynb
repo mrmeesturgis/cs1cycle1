{
 "cells": [
  {
   "cell_type": "markdown",
   "id": "bf1e4e93",
   "metadata": {
    "deletable": false,
    "editable": false
   },
   "source": [
    "<img src=\"https://www.sturgischarterschool.com/wp-content/uploads/2019/06/sturgisheader_logo.png\" alt=\"sturgis\" width=\"250\" align=\"right\"/>\n",
    "\n",
    "## Computer Science 'Hello World' notebook 1\n",
    "### Sturgis Charter Public School \n",
    "\n"
   ]
  },
  {
   "cell_type": "markdown",
   "id": "60694f86",
   "metadata": {},
   "source": [
    "Student: [your name]\n",
    "\n",
    "Collaborators: [N/A]\n",
    "\n",
    "Notes to the teacher: [N/A]"
   ]
  },
  {
   "cell_type": "markdown",
   "id": "38b1ce7d",
   "metadata": {
    "deletable": false,
    "editable": false
   },
   "source": [
    "#### Welcome to Computer Science. This is your first homework assignment. The due date is posted on google classroom. We will be using a combination of google classroom and github for assignments. Grades will remain on google classroom, while downloading and 'pushing' the assignment will be done through github. \n",
    "\n",
    "#### In order to use jupyter notebooks you will need the following on your computer. This will come pre-loaded on some class computers (but not all). You may want to use your personal computer for assignments. You are welcome and encouraged to do so; however, please sign a waiver (provided in google classroom). \n",
    "\n",
    "Necessary software:\n",
    "* github -> this is what allows you to access a remote repository and modify it locally, then submit back to the remote repository. \n",
    "* anaconda -> acts as a host for jupyter notebooks. \n",
    "* visual Studio Installer -> this may not be necessary for mac or linux users\n",
    "* Rust -> used while installing jupyter notebook\n",
    "* Pip -> an installer\n",
    "* Jupyter notebook -> allows you to create a local server that can interact with .ipynb files\n",
    "\n",
    "If you plan on installing these things on your personal device, you may ask for directions on how to do so."
   ]
  },
  {
   "cell_type": "markdown",
   "id": "e177f322",
   "metadata": {
    "deletable": false,
    "editable": false
   },
   "source": [
    "### Learning Objectives for notebook 1\n",
    "* learn how to use a jupyter notebook\n",
    "* understand data types\n",
    "* understand statements\n",
    "* apply simple mathematical operations"
   ]
  },
  {
   "cell_type": "markdown",
   "id": "4f3f7bb1",
   "metadata": {
    "deletable": false,
    "editable": false
   },
   "source": [
    "#### jupyter notebooks\n",
    "This is a jupyter notebook. It's a dynamic environment where strong visual components and code can co-exist. It's a learning rich environment where you can easily test small components of code. It is also an environment that many working professionals use and reference. \n",
    "\n",
    "#### cells\n",
    "\n",
    "A jupyter notebook consists of cells. Each cell can be run independently of other cells. They are generally run sequentially from top to bottom. Additionally you as the user can insert cells. Some cells will be immutable (can't be changed). Some cells (such as this one) are not code, but rather a document type called markdown. Other cells are python cells. To run a cell you simply click on it and press the Run button at the top. Alternatively press `shift + enter` after selecting the cell. \n",
    "\n",
    "You can also reset the turn of the notebook by selecting `kernel -> Restart and Clear Output`"
   ]
  },
  {
   "cell_type": "code",
   "execution_count": null,
   "id": "a23eddf8",
   "metadata": {},
   "outputs": [],
   "source": [
    "#run me!\n",
    "a = \"This is your teacher saying, \\'hello\\'.\"\n",
    "print(a)"
   ]
  },
  {
   "cell_type": "code",
   "execution_count": null,
   "id": "6f467631",
   "metadata": {},
   "outputs": [],
   "source": [
    "#now see if you can say hello back.\n",
    "b = \"\"\n",
    "print(b)\n",
    "assert b == 'Hello, teacher!', \"Wait! You didn't say hello!\""
   ]
  },
  {
   "cell_type": "markdown",
   "id": "568ee8c7",
   "metadata": {
    "deletable": false,
    "editable": false
   },
   "source": [
    "And it's as simple as that! Feel free to add cells while you are working on your solution. Simply be careful to not make your code unnecessarily confusing. Reading code is difficult enough as it is. A couple things to note. \n",
    "* `#` allows you to make a comment that is not run by the code. Alternatively for a big chunk you can `\"\"\"your chunk of text/code that the interpreter will ignore\"\"\"`. It is very helpful to communicate what your code is doing it while it is doing it. Trust me on this, sometimes the one who appreciates it the most is your future self. \n",
    "* Did you notice that line with the bold `assert` statement? And what's up with the `==`. This is going to be common practice for me as a teacher to ensure your code is doing what it should be doing. That cell is asking, 'does the variable `b` have the string `'Hello, teacher!'` in it? If it doesn't it will throw an error. Errors are no fun. Then you have to debug. Bugs are without a doubt a programmer's least favorite animal. Most of the time the errors will be because you have something that the interpreter doesn't understand. Check this out. "
   ]
  },
  {
   "cell_type": "code",
   "execution_count": null,
   "id": "582e3421",
   "metadata": {},
   "outputs": [],
   "source": [
    "a = '1'\n",
    "b = 2\n",
    "c = a + b\n",
    "print(c)"
   ]
  },
  {
   "cell_type": "markdown",
   "id": "9a2b72c2",
   "metadata": {
    "deletable": false,
    "editable": false
   },
   "source": [
    "#### Data types\n",
    "What's happening in the cell above? The problem is that you gave it two different data types. I want you to imagine that you ask your friend what's `2 + 'high-five!'` Is the answer seven? You may not throw an error, but you're probably tempted to. There are actually programming languages that will simply answer `7`, Python simply tells you to stop being confusing. So let's talk about some of the main data types. \n",
    "\n",
    "* `int` short for intiger, a very common data type, whole numbers\n",
    "* `float` the simple explanation is numbers with decimal points\n",
    "* `char` a single character. e.g. 'a', or 'z'\n",
    "* `str` a group of characters. Note! 1 and '1' are not the same. One is an int, and the other is a char\n",
    "* `list` a grouping of whatever you want in sequential order. These are mutable.\n",
    "* `tuple` a grouping of whatever you want in sequential order. These are immutable. \n",
    "\n",
    "There are others, but we're going to stick with these for starters. Keep in mind one of the most *common* bugs is data types that don't match up.  \n",
    "\n",
    "#### Variables and constants\n",
    "Most of the time you are going to be working with variables. A variable is basically the name for some set of data. The name and data can be changed quite easily. Examples of variables include what are above `a`, `b` and `c`. Note, however, that I could name those variables whatever I want, not just alphabetical characters. For example, I might want to make it clear that my variable is a `counter`. \n",
    "\n",
    "#### Statements\n",
    "In addition to data types another key piece we want to get off the ground are some statements. We're going to start with two.\n",
    "\n",
    "* `if` is a conditional statement. It asks, is something true, and if it is, then do whatever comes next.\n",
    "* `for` says go through each part of the data. While we are going through a piece of data, it's common to run complex algorithms on each piece.\n",
    "\n",
    "See examples below.\n",
    "\n",
    "#### Mathematical operators\n",
    "These are quite intuitive. \n",
    "\n",
    "* `+` allows you to add numbers (and potentially other things)\n",
    "* `-` allows you to subtract numbers\n",
    "* `*` multiplication\n",
    "* `/` division"
   ]
  },
  {
   "cell_type": "code",
   "execution_count": null,
   "id": "76234bba",
   "metadata": {},
   "outputs": [],
   "source": [
    "#Imagine for some odd reason I wanted to know the values of 1-10 divided by seven. I could implement a simple algorithm that looks like the following.\n",
    "\n",
    "my_variable = range(1,11)\n",
    "print(\"My range is \", list(my_variable), \"\\n\")\n",
    "\n",
    "for num in my_variable:\n",
    "    print(num/7)\n",
    "    \n",
    "#Feel free to modify this code and see if you can come up with something different. Just be aware that the reset button resets the computation, not the contents of the cells."
   ]
  },
  {
   "cell_type": "markdown",
   "id": "ef1d31b8",
   "metadata": {
    "deletable": false,
    "editable": false
   },
   "source": [
    "### Your turn\n",
    "Alright, now you know some computing basics. Time to practice. Please answer the five questions below. Note that if you pass the assert check, you have found a right answer. I say 'a' because it is very likely that you could have gotten to that answer using a different algorithm as well. Good luck!"
   ]
  },
  {
   "cell_type": "markdown",
   "id": "0eb68375",
   "metadata": {
    "deletable": false,
    "editable": false
   },
   "source": [
    "#### Question 1\n",
    "In order to successfully pass the assert check, you will need to have\n",
    "a variable that is called `answer1`, and has the right value in it and a variable that has `answer2` with the right answer as well."
   ]
  },
  {
   "cell_type": "code",
   "execution_count": null,
   "id": "98d3ab0b",
   "metadata": {},
   "outputs": [],
   "source": [
    "# your code here\n",
    "#Let's check how well you understand data types. Change the variable so that it will pass the following assert checks.\n",
    "answer1 = 'your answer here'\n",
    "answer2 = 'your answer here'"
   ]
  },
  {
   "cell_type": "code",
   "execution_count": null,
   "id": "3464666b",
   "metadata": {
    "deletable": false,
    "editable": false
   },
   "outputs": [],
   "source": [
    "#Question 1 assert check\n",
    "assert answer1 + '2' == '12'\n",
    "assert answer2 + 2 == 3"
   ]
  },
  {
   "cell_type": "markdown",
   "id": "d6c04f2b",
   "metadata": {},
   "source": [
    "#### Question 2\n",
    "Let's do a little work with mathematical operators and order of operation. Add parenthesis to the expression `6 * 1 -2` so that it's value changes from 4 to -6."
   ]
  },
  {
   "cell_type": "code",
   "execution_count": null,
   "id": "9af17887",
   "metadata": {},
   "outputs": [],
   "source": [
    "q2ans = 6 * 1 - 2"
   ]
  },
  {
   "cell_type": "code",
   "execution_count": null,
   "id": "309af904",
   "metadata": {
    "deletable": false,
    "editable": false
   },
   "outputs": [],
   "source": [
    "assert q2ans == -6"
   ]
  },
  {
   "cell_type": "markdown",
   "id": "11623421",
   "metadata": {},
   "source": [
    "#### Question 3\n",
    "If this homework were to take you 3891 hours to complete. How many days would that be? Write code that will you get the answer. "
   ]
  },
  {
   "cell_type": "code",
   "execution_count": null,
   "id": "8229359e",
   "metadata": {},
   "outputs": [],
   "source": [
    "# your code here\n",
    "q3ans = ''"
   ]
  },
  {
   "cell_type": "code",
   "execution_count": null,
   "id": "ce2b7f64",
   "metadata": {
    "deletable": false,
    "editable": false
   },
   "outputs": [],
   "source": [
    "assert q3ans == 162.125, \"Nope, that answer's not right. Did you get rid of \\'\\'\""
   ]
  },
  {
   "cell_type": "markdown",
   "id": "0c6a3234",
   "metadata": {
    "deletable": false,
    "editable": false
   },
   "source": [
    "#### Question 4\n",
    "Now let's work with the for loop and the if statement. I want you to take the string `an aardvark is an awesome creature` and remove all the `a`s from the string. Only `a` not `A`."
   ]
  },
  {
   "cell_type": "code",
   "execution_count": 24,
   "id": "9aae041d",
   "metadata": {},
   "outputs": [],
   "source": [
    "aardvark = 'Aardvarks are mammals that look like they were made from parts of other animals.'\\\n",
    "'An aardvark has a long snout that ends with a pig-like nose, rabbit-like ears and a tail similar'\\\n",
    "'to a kangaroos. Yet it is not closely related to any of those animals. Aardvarks are found throughout'\\\n",
    "'sub-Saharan Africa. The aardvarks name comes from the Afrikaans/Dutch language and means earth pig,'\\\n",
    "'according to National Geographic (opens in new tab). Though they do eat ants — so they are technically'\\\n",
    "'ant eaters — aardvarks are a separate species from anteaters, which are found in South America.'\n",
    "answer = ''\n",
    "for character in aardvark:\n",
    "    pass #delete the pass as you build your for loop\n"
   ]
  },
  {
   "cell_type": "code",
   "execution_count": 23,
   "id": "3009003a",
   "metadata": {
    "deletable": false,
    "editable": false
   },
   "outputs": [],
   "source": [
    "assert answer == 'Ardvrks re mmmls tht look like they were mde from prts of other nimls.An rdvrk hs  long snout tht ends with  pig-like nose, rbbit-like ers nd  til similrto  kngroos. Yet it is not closely relted to ny of those nimls. Ardvrks re found throughoutsub-Shrn Afric. The rdvrks nme comes from the Afrikns/Dutch lnguge nd mens erth pig,ccording to Ntionl Geogrphic (opens in new tb). Though they do et nts — so they re technicllynt eters — rdvrks re  seprte species from nteters, which re found in South Americ.'"
   ]
  }
 ],
 "metadata": {
  "celltoolbar": "Edit Metadata",
  "kernelspec": {
   "display_name": "Python 3 (ipykernel)",
   "language": "python",
   "name": "python3"
  },
  "language_info": {
   "codemirror_mode": {
    "name": "ipython",
    "version": 3
   },
   "file_extension": ".py",
   "mimetype": "text/x-python",
   "name": "python",
   "nbconvert_exporter": "python",
   "pygments_lexer": "ipython3",
   "version": "3.9.7"
  }
 },
 "nbformat": 4,
 "nbformat_minor": 5
}
